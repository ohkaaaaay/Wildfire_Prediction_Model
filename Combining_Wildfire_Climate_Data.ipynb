{
 "cells": [
  {
   "cell_type": "markdown",
   "metadata": {},
   "source": [
    "# Add Climate Data to Wildfire Data"
   ]
  },
  {
   "cell_type": "code",
   "execution_count": null,
   "metadata": {},
   "outputs": [],
   "source": [
    "import pandas as pd"
   ]
  },
  {
   "cell_type": "code",
   "execution_count": null,
   "metadata": {},
   "outputs": [],
   "source": [
    "# Load database\n",
    "# This wildfire dataset contains SoCal wildfires from 2000-2015\n",
    "wdf = pd.read_csv('Wildfires_SoCal.csv')"
   ]
  },
  {
   "cell_type": "code",
   "execution_count": null,
   "metadata": {},
   "outputs": [],
   "source": [
    "wdf.columns"
   ]
  },
  {
   "cell_type": "markdown",
   "metadata": {},
   "source": [
    "To view a description of each column, refer to the link: https://www.fs.usda.gov/rds/archive/products/RDS-2013-0009.4/_metadata_RDS-2013-0009.4.html"
   ]
  },
  {
   "cell_type": "code",
   "execution_count": null,
   "metadata": {},
   "outputs": [],
   "source": [
    "wdf.head()"
   ]
  },
  {
   "cell_type": "code",
   "execution_count": null,
   "metadata": {},
   "outputs": [],
   "source": [
    "wdf.shape"
   ]
  },
  {
   "cell_type": "markdown",
   "metadata": {},
   "source": [
    "## Step 1: Combine CSV climate data from different year ranges for each county.\n",
    "Make sure to repeat this step for each county. The result should be differen CSV files of each county containing wildfire and climate data.\n",
    "\n",
    "**Note**: Remember the wildfire database (from USDA) only contains wildfires from 2000-2015."
   ]
  },
  {
   "cell_type": "code",
   "execution_count": null,
   "metadata": {},
   "outputs": [],
   "source": [
    "# Climate San Diego file\n",
    "sd_00_04 = pd.read_csv('SD_2000-2004.csv')\n",
    "sd_05_09 = pd.read_csv('SD_2005-2009.csv')\n",
    "sd_10_14 = pd.read_csv('SD_2010-2014.csv')\n",
    "sd_15_19 = pd.read_csv('SD_2015-2019.csv')\n",
    "sd_20 = pd.read_csv('SD_2020.csv')"
   ]
  },
  {
   "cell_type": "code",
   "execution_count": null,
   "metadata": {},
   "outputs": [],
   "source": [
    "# Concatenate all the San Diego climate datatables together\n",
    "sd_00_20 = pd.concat([sd_00_04, sd_05_09, sd_10_14, sd_15_19, sd_20])\n",
    "sd_00_20.to_csv('SD_2000-2020.csv')"
   ]
  },
  {
   "cell_type": "code",
   "execution_count": null,
   "metadata": {},
   "outputs": [],
   "source": [
    "sd_00_20"
   ]
  },
  {
   "cell_type": "code",
   "execution_count": null,
   "metadata": {},
   "outputs": [],
   "source": [
    "# Group data to get the average for each date\n",
    "avg_sd_00_20 = sd_00_20.groupby('DATE')[['AWND', 'PRCP', 'TAVG']].mean().reset_index()\n",
    "avg_sd_00_20"
   ]
  },
  {
   "cell_type": "code",
   "execution_count": null,
   "metadata": {},
   "outputs": [],
   "source": [
    "# Separate day, month, and year as separate columns\n",
    "avg_sd_00_20['CLIMATE_YEAR'] = avg_sd_00_20.DATE.apply(\n",
    "    lambda x: x.split('-')[0])\n",
    "avg_sd_00_20['CLIMATE_MONTH'] = avg_sd_00_20.DATE.apply(\n",
    "    lambda x: x.split('-')[1])\n",
    "avg_sd_00_20['CLIMATE_DAY'] = avg_sd_00_20.DATE.apply(\n",
    "    lambda x: x.split('-')[2])"
   ]
  },
  {
   "cell_type": "code",
   "execution_count": null,
   "metadata": {},
   "outputs": [],
   "source": [
    "# Change object to string to integer\n",
    "avg_sd_00_20['CLIMATE_YEAR'] = avg_sd_00_20['CLIMATE_YEAR'].astype(str).astype(int)\n",
    "avg_sd_00_20['CLIMATE_MONTH'] = avg_sd_00_20['CLIMATE_MONTH'].astype(str).astype(int)\n",
    "avg_sd_00_20['CLIMATE_DAY'] = avg_sd_00_20['CLIMATE_DAY'].astype(str).astype(int)"
   ]
  },
  {
   "cell_type": "code",
   "execution_count": null,
   "metadata": {},
   "outputs": [],
   "source": [
    "# Drop columns\n",
    "avg_sd_00_20.drop(columns=['DATE'], axis=1, inplace=True)"
   ]
  },
  {
   "cell_type": "code",
   "execution_count": null,
   "metadata": {},
   "outputs": [],
   "source": [
    "avg_sd_00_20"
   ]
  },
  {
   "cell_type": "code",
   "execution_count": null,
   "metadata": {},
   "outputs": [],
   "source": [
    "# Filter San Diego\n",
    "wdf_sd = wdf[wdf.FIPS_NAME == 'San Diego']\n",
    "\n",
    "# Separate day and month as separate columns\n",
    "wdf_sd['DISCOVERY_MONTH'] = wdf_sd.DISCOVERY_DATE.apply(\n",
    "    lambda x: x.split('/')[0])\n",
    "wdf_sd['DISCOVERY_DAY'] = wdf_sd.DISCOVERY_DATE.apply(\n",
    "    lambda x: x.split('/')[1])\n",
    "\n",
    "# Change object to string to integer\n",
    "wdf_sd['DISCOVERY_MONTH'] = wdf_sd['DISCOVERY_MONTH'].astype(str).astype(int)\n",
    "wdf_sd['DISCOVERY_DAY'] = wdf_sd['DISCOVERY_DAY'].astype(str).astype(int)\n",
    "\n",
    "# Drop columns\n",
    "wdf_sd.drop(columns=['FOD_ID', 'FPA_ID', 'SOURCE_SYSTEM_TYPE', 'SOURCE_SYSTEM', 'NWCG_REPORTING_AGENCY', 'NWCG_REPORTING_UNIT_ID',\n",
    "                    'NWCG_REPORTING_UNIT_NAME', 'SOURCE_REPORTING_UNIT', 'SOURCE_REPORTING_UNIT_NAME', 'LOCAL_FIRE_REPORT_ID',\n",
    "                    'LOCAL_INCIDENT_ID', 'FIRE_CODE', 'ICS_209_INCIDENT_NUMBER', 'ICS_209_NAME', 'MTBS_ID', 'MTBS_FIRE_NAME',\n",
    "                    'COMPLEX_NAME', 'DISCOVERY_DATE', 'DISCOVERY_DOY', 'STAT_CAUSE_CODE', 'CONT_DOY', 'OWNER_CODE', 'OWNER_DESCR',\n",
    "                    'STATE', 'COUNTY', 'FIPS_CODE'], axis=1, inplace=True)\n",
    "wdf_sd.head()\n"
   ]
  },
  {
   "cell_type": "code",
   "execution_count": null,
   "metadata": {},
   "outputs": [],
   "source": [
    "# Check variable type\n",
    "wdf_sd.dtypes"
   ]
  },
  {
   "cell_type": "code",
   "execution_count": null,
   "metadata": {},
   "outputs": [],
   "source": [
    "# Check variable type\n",
    "avg_sd_00_20.dtypes"
   ]
  },
  {
   "cell_type": "code",
   "execution_count": null,
   "metadata": {},
   "outputs": [],
   "source": [
    "# Merge county climate data to wildfire data\n",
    "wdf_sd_total = pd.merge(wdf_sd, avg_sd_00_20, how='inner', left_on=['FIRE_YEAR', 'DISCOVERY_MONTH', 'DISCOVERY_DAY'],\n",
    "         right_on=['CLIMATE_YEAR', 'CLIMATE_MONTH', 'CLIMATE_DAY'])\n",
    "wdf_sd_total.drop(columns=['CLIMATE_YEAR', 'CLIMATE_MONTH', 'CLIMATE_DAY'], axis=1, inplace=True)\n",
    "wdf_sd_total"
   ]
  },
  {
   "cell_type": "code",
   "execution_count": null,
   "metadata": {},
   "outputs": [],
   "source": [
    "# Create a database of merged wildfire data and climate data for a particular county\n",
    "wdf_sd_total.to_csv('wdf_sd_total.csv')"
   ]
  },
  {
   "cell_type": "markdown",
   "metadata": {},
   "source": [
    "## Step 2: Merge climate data from each county to one CSV file.\n",
    "This step will create a CSV file containing daily climate summaries from 2000 to September 2020."
   ]
  },
  {
   "cell_type": "code",
   "execution_count": null,
   "metadata": {},
   "outputs": [],
   "source": [
    "# Read in all the 10 counties' climate databases\n",
    "climate_santab_total = pd.read_csv('/Users/elizabethfabio/Documents/SCHOOL/BDA/Wildfire/SantaB/SantaB_2000-2020.csv')\n",
    "climate_imperial_total = pd.read_csv('/Users/elizabethfabio/Documents/SCHOOL/BDA/Wildfire/Imperial/Imperial_2000-2020.csv')\n",
    "climate_kern_total = pd.read_csv('/Users/elizabethfabio/Documents/SCHOOL/BDA/Wildfire/Kern/Kern_2000-2020.csv')\n",
    "climate_la_total = pd.read_csv('/Users/elizabethfabio/Documents/SCHOOL/BDA/Wildfire/LA/LA_2000-2020.csv')\n",
    "climate_orange_total = pd.read_csv('/Users/elizabethfabio/Documents/SCHOOL/BDA/Wildfire/Orange/Orange_2000-2020.csv')\n",
    "climate_riverside_total = pd.read_csv('/Users/elizabethfabio/Documents/SCHOOL/BDA/Wildfire/Riverside/Riverside_2000-2020.csv')\n",
    "climate_sb_total = pd.read_csv('/Users/elizabethfabio/Documents/SCHOOL/BDA/Wildfire/SB/SB_2000-2020.csv')\n",
    "climate_sd_total = pd.read_csv('/Users/elizabethfabio/Documents/SCHOOL/BDA/Wildfire/SD/SD_2000-2020.csv')\n",
    "climate_slo_total = pd.read_csv('/Users/elizabethfabio/Documents/SCHOOL/BDA/Wildfire/SLO/SLO_2000-2020.csv')\n",
    "climate_ventura_total = pd.read_csv('/Users/elizabethfabio/Documents/SCHOOL/BDA/Wildfire/Ventura/Ventura_2000-2020.csv')\n"
   ]
  },
  {
   "cell_type": "code",
   "execution_count": null,
   "metadata": {},
   "outputs": [],
   "source": [
    "# Group data to get the average for each date\n",
    "avg_climate_santab_total = climate_santab_total.groupby('DATE')[['AWND', 'PRCP', 'TAVG']].mean().reset_index()\n",
    "avg_climate_imperial_total = climate_imperial_total.groupby('DATE')[['AWND', 'PRCP', 'TAVG']].mean().reset_index()\n",
    "avg_climate_kern_total = climate_kern_total.groupby('DATE')[['AWND', 'PRCP', 'TAVG']].mean().reset_index()\n",
    "avg_climate_la_total = climate_la_total.groupby('DATE')[['AWND', 'PRCP', 'TAVG']].mean().reset_index()\n",
    "avg_climate_orange_total = climate_orange_total.groupby('DATE')[['AWND', 'PRCP', 'TAVG']].mean().reset_index()\n",
    "avg_climate_riverside_total = climate_riverside_total.groupby('DATE')[['AWND', 'PRCP', 'TAVG']].mean().reset_index()\n",
    "avg_climate_sb_total = climate_sb_total.groupby('DATE')[['AWND', 'PRCP', 'TAVG']].mean().reset_index()\n",
    "avg_climate_sd_total = climate_sd_total.groupby('DATE')[['AWND', 'PRCP', 'TAVG']].mean().reset_index()\n",
    "avg_climate_slo_total = climate_slo_total.groupby('DATE')[['AWND', 'PRCP', 'TAVG']].mean().reset_index()\n",
    "avg_climate_ventura_total = climate_ventura_total.groupby('DATE')[['AWND', 'PRCP', 'TAVG']].mean().reset_index()"
   ]
  },
  {
   "cell_type": "code",
   "execution_count": null,
   "metadata": {},
   "outputs": [],
   "source": [
    "# Check Santa Barbara and adjust dates\n",
    "# Separate day, month, and year as separate columns\n",
    "avg_climate_santab_total['CLIMATE_YEAR'] = avg_climate_santab_total.DATE.apply(\n",
    "    lambda x: x.split('-')[0])\n",
    "avg_climate_santab_total['CLIMATE_MONTH'] = avg_climate_santab_total.DATE.apply(\n",
    "    lambda x: x.split('-')[1])\n",
    "avg_climate_santab_total['CLIMATE_DAY'] = avg_climate_santab_total.DATE.apply(\n",
    "    lambda x: x.split('-')[2])"
   ]
  },
  {
   "cell_type": "code",
   "execution_count": null,
   "metadata": {},
   "outputs": [],
   "source": [
    "# Check Santa Barbara and adjust dates\n",
    "avg_climate_santab_total['CLIMATE_YEAR'] = avg_climate_santab_total['CLIMATE_YEAR'].astype(str).astype(int)\n",
    "avg_climate_santab_total['CLIMATE_MONTH'] = avg_climate_santab_total['CLIMATE_MONTH'].astype(str).astype(int)\n",
    "avg_climate_santab_total['CLIMATE_DAY'] = avg_climate_santab_total['CLIMATE_DAY'].astype(str).astype(int)"
   ]
  },
  {
   "cell_type": "code",
   "execution_count": null,
   "metadata": {},
   "outputs": [],
   "source": [
    "# Add a FIPS_NAME column\n",
    "avg_climate_santab_total.insert(1, 'FIPS_NAME', 'Santa Barbara', allow_duplicates = False)"
   ]
  },
  {
   "cell_type": "code",
   "execution_count": null,
   "metadata": {},
   "outputs": [],
   "source": [
    "avg_climate_santab_total"
   ]
  },
  {
   "cell_type": "code",
   "execution_count": null,
   "metadata": {},
   "outputs": [],
   "source": [
    "# Check Imperial and adjust dates\n",
    "# Separate day, month, and year as separate columns\n",
    "avg_climate_imperial_total['CLIMATE_YEAR'] = avg_climate_imperial_total.DATE.apply(\n",
    "    lambda x: x.split('-')[0])\n",
    "avg_climate_imperial_total['CLIMATE_MONTH'] = avg_climate_imperial_total.DATE.apply(\n",
    "    lambda x: x.split('-')[1])\n",
    "avg_climate_imperial_total['CLIMATE_DAY'] = avg_climate_imperial_total.DATE.apply(\n",
    "    lambda x: x.split('-')[2])"
   ]
  },
  {
   "cell_type": "code",
   "execution_count": null,
   "metadata": {},
   "outputs": [],
   "source": [
    "# Check Imperial and adjust dates\n",
    "avg_climate_imperial_total['CLIMATE_YEAR'] = avg_climate_imperial_total['CLIMATE_YEAR'].astype(str).astype(int)\n",
    "avg_climate_imperial_total['CLIMATE_MONTH'] = avg_climate_imperial_total['CLIMATE_MONTH'].astype(str).astype(int)\n",
    "avg_climate_imperial_total['CLIMATE_DAY'] = avg_climate_imperial_total['CLIMATE_DAY'].astype(str).astype(int)"
   ]
  },
  {
   "cell_type": "code",
   "execution_count": null,
   "metadata": {},
   "outputs": [],
   "source": [
    "# Add a FIPS_NAME column\n",
    "avg_climate_imperial_total.insert(1, 'FIPS_NAME', 'Imperial', allow_duplicates = False)"
   ]
  },
  {
   "cell_type": "code",
   "execution_count": null,
   "metadata": {},
   "outputs": [],
   "source": [
    "avg_climate_imperial_total"
   ]
  },
  {
   "cell_type": "code",
   "execution_count": null,
   "metadata": {},
   "outputs": [],
   "source": [
    "# Check Kern and adjust dates\n",
    "# Separate day, month, and year as separate columns\n",
    "avg_climate_kern_total['CLIMATE_YEAR'] = avg_climate_kern_total.DATE.apply(\n",
    "    lambda x: x.split('/')[-1])\n",
    "avg_climate_kern_total['CLIMATE_MONTH'] = avg_climate_kern_total.DATE.apply(\n",
    "    lambda x: x.split('/')[0])\n",
    "avg_climate_kern_total['CLIMATE_DAY'] = avg_climate_kern_total.DATE.apply(\n",
    "    lambda x: x.split('/')[1])"
   ]
  },
  {
   "cell_type": "code",
   "execution_count": null,
   "metadata": {},
   "outputs": [],
   "source": [
    "# Check Kern and adjust dates\n",
    "avg_climate_kern_total['CLIMATE_YEAR'] = avg_climate_kern_total['CLIMATE_YEAR'].astype(str).astype(int)\n",
    "avg_climate_kern_total['CLIMATE_MONTH'] = avg_climate_kern_total['CLIMATE_MONTH'].astype(str).astype(int)\n",
    "avg_climate_kern_total['CLIMATE_DAY'] = avg_climate_kern_total['CLIMATE_DAY'].astype(str).astype(int)"
   ]
  },
  {
   "cell_type": "code",
   "execution_count": null,
   "metadata": {},
   "outputs": [],
   "source": [
    "# Add a FIPS_NAME column\n",
    "avg_climate_kern_total.insert(1, 'FIPS_NAME', 'Kern', allow_duplicates = False)"
   ]
  },
  {
   "cell_type": "code",
   "execution_count": null,
   "metadata": {},
   "outputs": [],
   "source": [
    "avg_climate_kern_total"
   ]
  },
  {
   "cell_type": "code",
   "execution_count": null,
   "metadata": {},
   "outputs": [],
   "source": [
    "# Check LA and adjust dates\n",
    "# Separate day, month, and year as separate columns\n",
    "avg_climate_la_total['CLIMATE_YEAR'] = avg_climate_la_total.DATE.apply(\n",
    "    lambda x: x.split('-')[0])\n",
    "avg_climate_la_total['CLIMATE_MONTH'] = avg_climate_la_total.DATE.apply(\n",
    "    lambda x: x.split('-')[1])\n",
    "avg_climate_la_total['CLIMATE_DAY'] = avg_climate_la_total.DATE.apply(\n",
    "    lambda x: x.split('-')[2])"
   ]
  },
  {
   "cell_type": "code",
   "execution_count": null,
   "metadata": {},
   "outputs": [],
   "source": [
    "# Check LA and adjust dates\n",
    "avg_climate_la_total['CLIMATE_YEAR'] = avg_climate_la_total['CLIMATE_YEAR'].astype(str).astype(int)\n",
    "avg_climate_la_total['CLIMATE_MONTH'] = avg_climate_la_total['CLIMATE_MONTH'].astype(str).astype(int)\n",
    "avg_climate_la_total['CLIMATE_DAY'] = avg_climate_la_total['CLIMATE_DAY'].astype(str).astype(int)"
   ]
  },
  {
   "cell_type": "code",
   "execution_count": null,
   "metadata": {},
   "outputs": [],
   "source": [
    "# Add a FIPS_NAME column\n",
    "avg_climate_la_total.insert(1, 'FIPS_NAME', 'Los Angeles', allow_duplicates = False)"
   ]
  },
  {
   "cell_type": "code",
   "execution_count": null,
   "metadata": {},
   "outputs": [],
   "source": [
    "avg_climate_la_total"
   ]
  },
  {
   "cell_type": "code",
   "execution_count": null,
   "metadata": {},
   "outputs": [],
   "source": [
    "# Check OC and adjust dates\n",
    "# Separate day, month, and year as separate columns\n",
    "avg_climate_orange_total['CLIMATE_YEAR'] = avg_climate_orange_total.DATE.apply(\n",
    "    lambda x: x.split('-')[0])\n",
    "avg_climate_orange_total['CLIMATE_MONTH'] = avg_climate_orange_total.DATE.apply(\n",
    "    lambda x: x.split('-')[1])\n",
    "avg_climate_orange_total['CLIMATE_DAY'] = avg_climate_orange_total.DATE.apply(\n",
    "    lambda x: x.split('-')[2])"
   ]
  },
  {
   "cell_type": "code",
   "execution_count": null,
   "metadata": {},
   "outputs": [],
   "source": [
    "# Check OC and adjust dates\n",
    "avg_climate_orange_total['CLIMATE_YEAR'] = avg_climate_orange_total['CLIMATE_YEAR'].astype(str).astype(int)\n",
    "avg_climate_orange_total['CLIMATE_MONTH'] = avg_climate_orange_total['CLIMATE_MONTH'].astype(str).astype(int)\n",
    "avg_climate_orange_total['CLIMATE_DAY'] = avg_climate_orange_total['CLIMATE_DAY'].astype(str).astype(int)"
   ]
  },
  {
   "cell_type": "code",
   "execution_count": null,
   "metadata": {},
   "outputs": [],
   "source": [
    "# Add a FIPS_NAME column\n",
    "avg_climate_orange_total.insert(1, 'FIPS_NAME', 'Orange', allow_duplicates = False)"
   ]
  },
  {
   "cell_type": "code",
   "execution_count": null,
   "metadata": {},
   "outputs": [],
   "source": [
    "avg_climate_orange_total"
   ]
  },
  {
   "cell_type": "code",
   "execution_count": null,
   "metadata": {},
   "outputs": [],
   "source": [
    "# Check Riverside and adjust dates\n",
    "# Separate day, month, and year as separate columns\n",
    "avg_climate_riverside_total['CLIMATE_YEAR'] = avg_climate_riverside_total.DATE.apply(\n",
    "    lambda x: x.split('-')[0])\n",
    "avg_climate_riverside_total['CLIMATE_MONTH'] = avg_climate_riverside_total.DATE.apply(\n",
    "    lambda x: x.split('-')[1])\n",
    "avg_climate_riverside_total['CLIMATE_DAY'] = avg_climate_riverside_total.DATE.apply(\n",
    "    lambda x: x.split('-')[2])"
   ]
  },
  {
   "cell_type": "code",
   "execution_count": null,
   "metadata": {},
   "outputs": [],
   "source": [
    "# Check Riverside and adjust dates\n",
    "avg_climate_riverside_total['CLIMATE_YEAR'] = avg_climate_riverside_total['CLIMATE_YEAR'].astype(str).astype(int)\n",
    "avg_climate_riverside_total['CLIMATE_MONTH'] = avg_climate_riverside_total['CLIMATE_MONTH'].astype(str).astype(int)\n",
    "avg_climate_riverside_total['CLIMATE_DAY'] = avg_climate_riverside_total['CLIMATE_DAY'].astype(str).astype(int)"
   ]
  },
  {
   "cell_type": "code",
   "execution_count": null,
   "metadata": {},
   "outputs": [],
   "source": [
    "# Add a FIPS_NAME column\n",
    "avg_climate_riverside_total.insert(1, 'FIPS_NAME', 'Riverside', allow_duplicates = False)"
   ]
  },
  {
   "cell_type": "code",
   "execution_count": null,
   "metadata": {},
   "outputs": [],
   "source": [
    "avg_climate_riverside_total"
   ]
  },
  {
   "cell_type": "code",
   "execution_count": null,
   "metadata": {},
   "outputs": [],
   "source": [
    "# Check SB and adjust dates\n",
    "# Separate day, month, and year as separate columns\n",
    "avg_climate_sb_total['CLIMATE_YEAR'] = avg_climate_sb_total.DATE.apply(\n",
    "    lambda x: x.split('/')[-1])\n",
    "avg_climate_sb_total['CLIMATE_MONTH'] = avg_climate_sb_total.DATE.apply(\n",
    "    lambda x: x.split('/')[0])\n",
    "avg_climate_sb_total['CLIMATE_DAY'] = avg_climate_sb_total.DATE.apply(\n",
    "    lambda x: x.split('/')[1])"
   ]
  },
  {
   "cell_type": "code",
   "execution_count": null,
   "metadata": {},
   "outputs": [],
   "source": [
    "# Check SB and adjust dates\n",
    "avg_climate_sb_total['CLIMATE_YEAR'] = avg_climate_sb_total['CLIMATE_YEAR'].astype(str).astype(int)\n",
    "avg_climate_sb_total['CLIMATE_MONTH'] = avg_climate_sb_total['CLIMATE_MONTH'].astype(str).astype(int)\n",
    "avg_climate_sb_total['CLIMATE_DAY'] = avg_climate_sb_total['CLIMATE_DAY'].astype(str).astype(int)"
   ]
  },
  {
   "cell_type": "code",
   "execution_count": null,
   "metadata": {},
   "outputs": [],
   "source": [
    "# Add a FIPS_NAME column\n",
    "avg_climate_sb_total.insert(1, 'FIPS_NAME', 'San Bernardino', allow_duplicates = False)"
   ]
  },
  {
   "cell_type": "code",
   "execution_count": null,
   "metadata": {},
   "outputs": [],
   "source": [
    "avg_climate_sb_total"
   ]
  },
  {
   "cell_type": "code",
   "execution_count": null,
   "metadata": {},
   "outputs": [],
   "source": [
    "# Check SD and adjust dates\n",
    "# Separate day, month, and year as separate columns\n",
    "avg_climate_sd_total['CLIMATE_YEAR'] = avg_climate_sd_total.DATE.apply(\n",
    "    lambda x: x.split('-')[0])\n",
    "avg_climate_sd_total['CLIMATE_MONTH'] = avg_climate_sd_total.DATE.apply(\n",
    "    lambda x: x.split('-')[1])\n",
    "avg_climate_sd_total['CLIMATE_DAY'] = avg_climate_sd_total.DATE.apply(\n",
    "    lambda x: x.split('-')[2])"
   ]
  },
  {
   "cell_type": "code",
   "execution_count": null,
   "metadata": {},
   "outputs": [],
   "source": [
    "# Check SD and adjust dates\n",
    "avg_climate_sd_total['CLIMATE_YEAR'] = avg_climate_sd_total['CLIMATE_YEAR'].astype(str).astype(int)\n",
    "avg_climate_sd_total['CLIMATE_MONTH'] = avg_climate_sd_total['CLIMATE_MONTH'].astype(str).astype(int)\n",
    "avg_climate_sd_total['CLIMATE_DAY'] = avg_climate_sd_total['CLIMATE_DAY'].astype(str).astype(int)"
   ]
  },
  {
   "cell_type": "code",
   "execution_count": null,
   "metadata": {},
   "outputs": [],
   "source": [
    "# Add a FIPS_NAME column\n",
    "avg_climate_sd_total.insert(1, 'FIPS_NAME', 'San Diego', allow_duplicates = False)"
   ]
  },
  {
   "cell_type": "code",
   "execution_count": null,
   "metadata": {},
   "outputs": [],
   "source": [
    "avg_climate_sd_total"
   ]
  },
  {
   "cell_type": "code",
   "execution_count": null,
   "metadata": {},
   "outputs": [],
   "source": [
    "# Check SLO and adjust dates\n",
    "# Separate day, month, and year as separate columns\n",
    "avg_climate_slo_total['CLIMATE_YEAR'] = avg_climate_slo_total.DATE.apply(\n",
    "    lambda x: x.split('-')[0])\n",
    "avg_climate_slo_total['CLIMATE_MONTH'] = avg_climate_slo_total.DATE.apply(\n",
    "    lambda x: x.split('-')[1])\n",
    "avg_climate_slo_total['CLIMATE_DAY'] = avg_climate_slo_total.DATE.apply(\n",
    "    lambda x: x.split('-')[2])"
   ]
  },
  {
   "cell_type": "code",
   "execution_count": null,
   "metadata": {},
   "outputs": [],
   "source": [
    "# Check SLO and adjust dates\n",
    "avg_climate_slo_total['CLIMATE_YEAR'] = avg_climate_slo_total['CLIMATE_YEAR'].astype(str).astype(int)\n",
    "avg_climate_slo_total['CLIMATE_MONTH'] = avg_climate_slo_total['CLIMATE_MONTH'].astype(str).astype(int)\n",
    "avg_climate_slo_total['CLIMATE_DAY'] = avg_climate_slo_total['CLIMATE_DAY'].astype(str).astype(int)"
   ]
  },
  {
   "cell_type": "code",
   "execution_count": null,
   "metadata": {},
   "outputs": [],
   "source": [
    "# Add a FIPS_NAME column\n",
    "avg_climate_slo_total.insert(1, 'FIPS_NAME', 'San Luis Obispo', allow_duplicates = False)"
   ]
  },
  {
   "cell_type": "code",
   "execution_count": null,
   "metadata": {},
   "outputs": [],
   "source": [
    "avg_climate_slo_total"
   ]
  },
  {
   "cell_type": "code",
   "execution_count": null,
   "metadata": {},
   "outputs": [],
   "source": [
    "# Check Ventura and adjust dates\n",
    "# Separate day, month, and year as separate columns\n",
    "avg_climate_ventura_total['CLIMATE_YEAR'] = avg_climate_ventura_total.DATE.apply(\n",
    "    lambda x: x.split('/')[-1])\n",
    "avg_climate_ventura_total['CLIMATE_MONTH'] = avg_climate_ventura_total.DATE.apply(\n",
    "    lambda x: x.split('/')[0])\n",
    "avg_climate_ventura_total['CLIMATE_DAY'] = avg_climate_ventura_total.DATE.apply(\n",
    "    lambda x: x.split('/')[1])"
   ]
  },
  {
   "cell_type": "code",
   "execution_count": null,
   "metadata": {},
   "outputs": [],
   "source": [
    "# Check  and adjust dates\n",
    "avg_climate_ventura_total['CLIMATE_YEAR'] = avg_climate_ventura_total['CLIMATE_YEAR'].astype(str).astype(int)\n",
    "avg_climate_ventura_total['CLIMATE_MONTH'] = avg_climate_ventura_total['CLIMATE_MONTH'].astype(str).astype(int)\n",
    "avg_climate_ventura_total['CLIMATE_DAY'] = avg_climate_ventura_total['CLIMATE_DAY'].astype(str).astype(int)"
   ]
  },
  {
   "cell_type": "code",
   "execution_count": null,
   "metadata": {},
   "outputs": [],
   "source": [
    "# Add a FIPS_NAME column\n",
    "avg_climate_ventura_total.insert(1, 'FIPS_NAME', 'Ventura', allow_duplicates = False)"
   ]
  },
  {
   "cell_type": "code",
   "execution_count": null,
   "metadata": {},
   "outputs": [],
   "source": [
    "avg_climate_ventura_total"
   ]
  },
  {
   "cell_type": "code",
   "execution_count": null,
   "metadata": {},
   "outputs": [],
   "source": [
    "# Concatenate all averaged climate data tables together\n",
    "climate_total = pd.concat([avg_climate_santab_total, avg_climate_imperial_total, avg_climate_kern_total,\n",
    "                           avg_climate_la_total, avg_climate_orange_total, avg_climate_riverside_total,\n",
    "                           avg_climate_sb_total, avg_climate_sd_total, avg_climate_slo_total,\n",
    "                           avg_climate_ventura_total])\n",
    "climate_total"
   ]
  },
  {
   "cell_type": "code",
   "execution_count": null,
   "metadata": {},
   "outputs": [],
   "source": [
    "climate_total.dtypes"
   ]
  },
  {
   "cell_type": "code",
   "execution_count": null,
   "metadata": {},
   "outputs": [],
   "source": [
    "# Filter data only to 2016 through 2020\n",
    "climate_total = climate_total[climate_total['CLIMATE_YEAR'] >= 2016]\n",
    "climate_total"
   ]
  },
  {
   "cell_type": "code",
   "execution_count": null,
   "metadata": {},
   "outputs": [],
   "source": [
    "# Drop columns\n",
    "climate_total.drop(columns=['DATE'], axis=1, inplace=True)"
   ]
  },
  {
   "cell_type": "code",
   "execution_count": null,
   "metadata": {},
   "outputs": [],
   "source": [
    "climate_total.to_csv(\"climate_16_20.csv\")"
   ]
  },
  {
   "cell_type": "markdown",
   "metadata": {},
   "source": [
    "## Step 3: Merge 2016-Sept 2020 climate data and wildfire data.\n",
    "This step will result in one database containing wildfires and their daily climate summaries from 2000 to September 2020."
   ]
  },
  {
   "cell_type": "code",
   "execution_count": null,
   "metadata": {
    "scrolled": true
   },
   "outputs": [],
   "source": [
    "# Load database\n",
    "# This wildfire dataset contains SoCal wildfires from 2016 - September 2020\n",
    "wdf_16_20 = pd.read_csv('2016_2020_Wildfire_Scrape_CAL_Fire.csv')\n",
    "wdf_16_20"
   ]
  },
  {
   "cell_type": "code",
   "execution_count": null,
   "metadata": {},
   "outputs": [],
   "source": [
    "# Separate day, month, and year as separate columns\n",
    "wdf_16_20['DISCOVERY_MONTH'] = wdf_16_20.DISCOVERY_DATE.apply(\n",
    "    lambda x: x.split('/')[0])\n",
    "wdf_16_20['DISCOVERY_DAY'] = wdf_16_20.DISCOVERY_DATE.apply(\n",
    "    lambda x: x.split('/')[1])"
   ]
  },
  {
   "cell_type": "code",
   "execution_count": null,
   "metadata": {},
   "outputs": [],
   "source": [
    "# Change object to string to integer\n",
    "wdf_16_20['DISCOVERY_MONTH'] = wdf_16_20['DISCOVERY_MONTH'].astype(str).astype(int)\n",
    "wdf_16_20['DISCOVERY_DAY'] = wdf_16_20['DISCOVERY_DAY'].astype(str).astype(int)"
   ]
  },
  {
   "cell_type": "code",
   "execution_count": null,
   "metadata": {},
   "outputs": [],
   "source": [
    "# Drop columns\n",
    "wdf_16_20.drop(columns=['DISCOVERY_DATE'], axis=1, inplace=True)"
   ]
  },
  {
   "cell_type": "code",
   "execution_count": null,
   "metadata": {},
   "outputs": [],
   "source": [
    "wdf_16_20"
   ]
  },
  {
   "cell_type": "code",
   "execution_count": null,
   "metadata": {},
   "outputs": [],
   "source": [
    "# Merge the remaining climate data (2016-2020) to total wildfire data (2000-2020)\n",
    "wdf_climate_16_20 = pd.merge(wdf_16_20, climate_total, how='left',\n",
    "                             left_on=['FIPS_NAME', 'FIRE_YEAR', 'DISCOVERY_MONTH', 'DISCOVERY_DAY'],\n",
    "                             right_on=['FIPS_NAME', 'CLIMATE_YEAR', 'CLIMATE_MONTH', 'CLIMATE_DAY'])\n",
    "wdf_climate_16_20.drop(columns=['CLIMATE_YEAR', 'CLIMATE_MONTH', 'CLIMATE_DAY'], axis=1, inplace=True)\n",
    "wdf_climate_16_20.columns"
   ]
  },
  {
   "cell_type": "code",
   "execution_count": null,
   "metadata": {},
   "outputs": [],
   "source": [
    "# Save table\n",
    "wdf_climate_16_20.to_csv('wdf_climate_2016-2020.csv')"
   ]
  },
  {
   "cell_type": "markdown",
   "metadata": {},
   "source": [
    "## Step 4: Combine 2000-2015 and 2016-Sept 2020 wildfire & climate data"
   ]
  },
  {
   "cell_type": "code",
   "execution_count": null,
   "metadata": {},
   "outputs": [],
   "source": [
    "# Load wdf_climate_00-15\n",
    "wdf_climate_00_15 = pd.read_csv('wdf_climate_2000-2015.csv')\n",
    "wdf_climate_00_15"
   ]
  },
  {
   "cell_type": "code",
   "execution_count": null,
   "metadata": {},
   "outputs": [],
   "source": [
    "# Concatenate wdf_climate_00-15 with wdf_climate_16-20\n",
    "wdf_climate_00_20 = pd.concat([wdf_climate_00_15, wdf_climate_16_20])\n",
    "wdf_climate_00_20"
   ]
  },
  {
   "cell_type": "code",
   "execution_count": null,
   "metadata": {},
   "outputs": [],
   "source": [
    "# Save table\n",
    "wdf_climate_00_20.to_csv('wdf_climate_2000-2020.csv')"
   ]
  },
  {
   "cell_type": "markdown",
   "metadata": {},
   "source": [
    "## Step 5: Remove Wildfire Data Points Outside SoCal\n",
    "The database has some points outside of Southern California still."
   ]
  },
  {
   "cell_type": "code",
   "execution_count": null,
   "metadata": {},
   "outputs": [],
   "source": [
    "wdf_total = pd.read_csv('WF_TBL.csv')\n",
    "wdf_total"
   ]
  },
  {
   "cell_type": "code",
   "execution_count": null,
   "metadata": {},
   "outputs": [],
   "source": [
    "wdf_total.columns"
   ]
  },
  {
   "cell_type": "code",
   "execution_count": null,
   "metadata": {},
   "outputs": [],
   "source": [
    "# Filter latitude values\n",
    "wdf_lat = wdf_total[wdf_total['LATITUDE'] > 32.30]\n",
    "wdf_lat = wdf_lat[wdf_total['LATITUDE'] < 35.8]\n",
    "\n",
    "wdf_lat"
   ]
  },
  {
   "cell_type": "code",
   "execution_count": null,
   "metadata": {},
   "outputs": [],
   "source": [
    "# Filter longitude values\n",
    "wdf_long = wdf_lat[wdf_lat['LONGITUDE'] > 121.21]\n",
    "wdf_long = wdf_lat[wdf_lat['LONGITUDE'] < 114.08]\n",
    "\n",
    "wdf_long"
   ]
  },
  {
   "cell_type": "code",
   "execution_count": null,
   "metadata": {},
   "outputs": [],
   "source": [
    "wdf_long.to_csv('WDF_CLEANED.csv')"
   ]
  },
  {
   "cell_type": "code",
   "execution_count": null,
   "metadata": {},
   "outputs": [],
   "source": []
  }
 ],
 "metadata": {
  "kernelspec": {
   "display_name": "Python 3",
   "language": "python",
   "name": "python3"
  },
  "language_info": {
   "codemirror_mode": {
    "name": "ipython",
    "version": 3
   },
   "file_extension": ".py",
   "mimetype": "text/x-python",
   "name": "python",
   "nbconvert_exporter": "python",
   "pygments_lexer": "ipython3",
   "version": "3.8.3"
  }
 },
 "nbformat": 4,
 "nbformat_minor": 4
}
