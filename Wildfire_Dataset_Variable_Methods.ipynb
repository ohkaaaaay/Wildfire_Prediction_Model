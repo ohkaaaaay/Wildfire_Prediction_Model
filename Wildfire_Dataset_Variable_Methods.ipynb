{
  "nbformat": 4,
  "nbformat_minor": 0,
  "metadata": {
    "colab": {
      "name": "Wildfire_Dataset_Variable_Methods",
      "provenance": []
    },
    "kernelspec": {
      "name": "python3",
      "display_name": "Python 3"
    }
  },
  "cells": [
    {
      "cell_type": "markdown",
      "metadata": {
        "id": "OrDEX1g-box6"
      },
      "source": [
        "# Variables Added to Our Wildfire Dataset\n",
        "- Climate summary for each day when a wildfire was discovered\n",
        "- Whether the wildfire occurrence happened on a watershed\n",
        "- If the wildfire occurred during a drought\n",
        "- Population by year and county\n",
        "\n",
        "## Climate Data\n",
        "The process for retrieving climate summary data required requesting data from the NOAA website. The following instructions are about how we requested the data:\n",
        "1. **Weather Observation Type/Dataset**: Select *Daily Summaries*.\n",
        "2. **Select Data Range**: The target data range is 2000 to September 2020. We had to chunk up the data in shorter intervals (four years) since there's a file size limit.\n",
        "3. **Search For**: Select *Counties*.\n",
        "4. **Enter a Search Term**: Search for an individual Southern California county. We could not group up all the counties in one search because of a file size limit.\n",
        "5. **Add to Cart**: Click on the *Add to Cart* and then *View All Items*.\n",
        "6. **Select the Output Format**: Select *Custom GHCN-Daily CSV* and click *Continue* below.\n",
        "7. **Station Detail & Data Flag Options**: Select *Station Name* and *Geographic Location*.\n",
        "8. **Select Data Types for Custom Output**: Select *Precipitation (PRCP)*, *Average Temperature (TAVG)*, and *Average Wind Speed (AWND)*. Click *Continue* below.\n",
        "9. **Enter Email Address**: Add your email to have the CSV file sent to you.\n",
        "\n",
        "The remaining data manipulation occurred in an Ipython notebook using Pandas. Refer to the [Combining_Wildfire_Climate_Data.ipynb](https://github.com/ohkaaaaay/Wildfire_Prediction_Model/blob/master/Combining_Wildfire_Climate_Data.ipynb) in our GitHub repository for code on further data processing and merging of wildfire and climate data.\n",
        "\n",
        "## Watershed Data\n",
        "The watershed dataset was obtained from ArcGIS Online in the form of a shapefile. The following instructions were on how we extracted and appended the data to our complete dataset:\n",
        "1. **Extracting Watersheds in Southern California**: With the help of ArcGIS Pro's intersection tool; watersheds in our study area were extracted with the intersection tool. Then the CSV file was exported from ArcGIS Pro to Access.\n",
        "2. **Append the Extracted Watersheds**: Access was utilized to join the intersected values to the complete dataset. Followed by creating and running queries on Access, wildfires that occurred on a watershed were given a \"1\" and the alternative were given a \"0\".\n",
        "\n",
        "## Drought Data\n",
        "The Consecutive Drought Dataset for California was collected from the National Drought Mitigation Center in the form of a CSV file. The following instructions were on how we intersected and appended the data to our complete dataset:\n",
        "1. **Extract Counties That Were in Our Area of Interest (Southern California)**: Access was used to extract the counties in our study area.\n",
        "2. **Confirm Which Wildfires Occurred During a Drought**: An intersection was ran on the two tables (drought and wildfires) in regards to dates.\n",
        "3. **Append the Extracted Drought Data**: Queries were created and ran to distribute a \"1\" if a drought occurred during that wildfire and a \"0\" if it did not.\n",
        "\n",
        "## Population Data\n",
        "Population by county and year were collected from the California Census. The following instructions were how we intersected and appended the data to our complete dataset:\n",
        "1. **Data Acquisition**: Put all the data together in a spreadsheet.\n",
        "2. **Append Population Data**: Population was appended with Access by its classified county and year.\n",
        "\n",
        "# Data Visualizations of These Variables\n",
        ">*Even though our data visualizations do not necessarily answer our research\n",
        "questions. We felt how we came to these visual clusters were worth mentioning.*\n",
        "\n",
        "## Bar Plot\n",
        "1. From the complete dataset, the \"Total Acres Burned\" column was summed for each individual year and county in a new array.\n",
        "2. Append this column with its' corresponding year in Jupyter Notebook with Plotly and Chart Studio, the bar plot was created with \"Year\" on the x-axis, and \"Total Acres Burned\" on the y-axis.\n",
        "3. From Jupyter Notebook, the figure was imported into Chart Studio for embedding capabilities.\n",
        "\n",
        "## Spatial Maps\n",
        "Three types of maps were used to visualize clusters spatially: a population choroplethmap, a temperature kernel density mapped with watershed polygons, and a precipitation kernel density map; all mapped underneath wildfire points.\n",
        "\n",
        "The study area of Southern California was extracted from California county boundaries from ArcGIS Online. Queries for each individual county were ran using ArcGIS Pro's selection tool. After importing the complete Wildfire Dataset into ArcGIS Pro, the points were converted from raster to point data within the boundaries of Southern California by their latitude and longitude.\n",
        "\n",
        "After addressing the bar plot for the 5 largest years in terms of total acres burned (2006, 2007, 2009, 2016, and 2020), choropleth maps regarding population were created to investigate these peaks. A choropleth map is a type of thematic map in which different colors are utilized to aggregate polygon data. For the mentioned years, population by county was appended to the Southern California county boundaries layer where it was then normalized by the area of each individualized county (population/mi^2). When editing symbology, the intervals of the data were also altered to ensure uniform map legends. Wildfire occurrences from these respected years were then mapped on top of this layer.\n",
        "\n",
        "The maps showcasing spatial climate variables were also based upon the 5 largest years in terms of total acres burned. Wildfires from those years were linked with average daily temperatures. After extracting the wildfires that occurred in those particular years from the complete dataset, the Kernel Density tool was utilized to calculate the density of temperatures and precipitation in a neighborhood around those wildfires for each of the extracted years. The Wildfire point layer and the watershed polygons were mapped on top of the temperature kernel density layers. Only the wildfires were mapped on top of the precipitation density layer."
      ]
    }
  ]
}